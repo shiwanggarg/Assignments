{
  "nbformat": 4,
  "nbformat_minor": 0,
  "metadata": {
    "colab": {
      "provenance": [],
      "authorship_tag": "ABX9TyN2euBrfNnBqBZ9jYUg6WbR",
      "include_colab_link": true
    },
    "kernelspec": {
      "name": "python3",
      "display_name": "Python 3"
    },
    "language_info": {
      "name": "python"
    }
  },
  "cells": [
    {
      "cell_type": "markdown",
      "metadata": {
        "id": "view-in-github",
        "colab_type": "text"
      },
      "source": [
        "<a href=\"https://colab.research.google.com/github/shiwanggarg/Assignments/blob/main/Assignment2_3053_RAI3.ipynb\" target=\"_parent\"><img src=\"https://colab.research.google.com/assets/colab-badge.svg\" alt=\"Open In Colab\"/></a>"
      ]
    },
    {
      "cell_type": "code",
      "execution_count": null,
      "metadata": {
        "id": "B_kN6-pc_Rk6",
        "colab": {
          "base_uri": "https://localhost:8080/"
        },
        "outputId": "2c24fbe6-2d41-4cb2-d2f9-b9251e0bb778"
      },
      "outputs": [
        {
          "output_type": "stream",
          "name": "stdout",
          "text": [
            "Original list is as follows :[11, 12, 13, 14]\n",
            "1(i) list is as follows :[11, 12, 13, 14, 50, 60]\n",
            "\n",
            "\n",
            "Original list is as follows :[11, 12, 13, 14]\n",
            "1(ii) list is as follows :[12, 14]\n",
            "\n",
            "\n",
            "Original list is as follows :[12, 11, 14, 13]\n",
            "1(iii) list is as follows :[11, 12, 13, 14]\n",
            "\n",
            "\n",
            "Original list is as follows :[11, 12, 13, 14]\n",
            "1(iv) list is as follows :[14, 13, 12, 11]\n",
            "\n",
            "\n",
            "Original list is as follows :[11, 12, 13, 14]\n",
            "12 is present in 1(v) list\n",
            "\n",
            "\n",
            "Original list is as follows :[11, 12, 13, 14]\n",
            "length of 1(vi) list is 4\n",
            "\n",
            "\n",
            "Original list is as follows :[11, 12, 13, 14]\n",
            "The sum of numbers in L list is : 50\n",
            "\n",
            "\n",
            "Original list is as follows :[11, 12, 13, 14]\n",
            "Sum of odd number : 24\n",
            "\n",
            "\n",
            "[11, 12, 13, 14]\n",
            "Orginal sum of the list is 50\n",
            "The sum of even numbers in list in 1(ix) is 24\n",
            "\n",
            "\n",
            "Sum of prime numbers in the list: 28\n",
            "\n",
            "\n",
            "Orginal list is as follows : [11, 12, 13, 14]\n",
            "1(xi) list is as follows :[]\n",
            "\n",
            "\n",
            "Orginal list is as follows : [11, 12, 13, 14]\n",
            "No L list exists after deletion of that list\n"
          ]
        }
      ],
      "source": [
        "#Q1(i)\n",
        "L=[11,12,13,14]\n",
        "print(f\"Original list is as follows :{L}\")\n",
        "L.append(50)\n",
        "L.append(60)\n",
        "print(f\"1(i) list is as follows :{L}\")\n",
        "print(\"\\n\")\n",
        "\n",
        "#Q1(ii)\n",
        "L=[11,12,13,14]\n",
        "print(f\"Original list is as follows :{L}\")\n",
        "L.remove(11)\n",
        "L.remove(13)\n",
        "print(f\"1(ii) list is as follows :{L}\")\n",
        "print(\"\\n\")\n",
        "\n",
        "# Q1(iii)\n",
        "L=[12,11,14,13]\n",
        "print(f\"Original list is as follows :{L}\")\n",
        "L.sort()\n",
        "print(f\"1(iii) list is as follows :{L}\")\n",
        "print(\"\\n\")\n",
        "\n",
        "#Q1(iv)\n",
        "#In this question the list used is same of Q1(iii) result list\n",
        "print(f\"Original list is as follows :{L}\")\n",
        "L.reverse()\n",
        "print(f\"1(iv) list is as follows :{L}\")\n",
        "print(\"\\n\")\n",
        "\n",
        "#Q1(v)\n",
        "L=[11,12,13,14]\n",
        "print(f\"Original list is as follows :{L}\")\n",
        "i=12\n",
        "if i in L:\n",
        "    print(f\"{i} is present in 1(v) list\")\n",
        "else:\n",
        "    print(f\"{i} is not present in 1(v) list\")\n",
        "print(\"\\n\")\n",
        "\n",
        "#Q1(vi)\n",
        "L=[11,12,13,14]\n",
        "print(f\"Original list is as follows :{L}\")\n",
        "print(f\"length of 1(vi) list is {len(L)}\")\n",
        "print(\"\\n\")\n",
        "\n",
        "#Q1(vii)\n",
        "L=[11,12,13,14]\n",
        "print(f\"Original list is as follows :{L}\")\n",
        "total=0\n",
        "for num in L:\n",
        "    total+=num\n",
        "print(\"The sum of numbers in L list is :\",total)\n",
        "print(\"\\n\")\n",
        "\n",
        "#Q1(viii)\n",
        "L=[11,12,13,14]\n",
        "print(f\"Original list is as follows :{L}\")\n",
        "total=0\n",
        "for num in L:\n",
        "    if num%2!=0:\n",
        "        total+=num\n",
        "print(\"Sum of odd number :\",total)\n",
        "print(\"\\n\")\n",
        "\n",
        "#Q1(ix)\n",
        "L=[11,12,13,14]\n",
        "print(L)\n",
        "print(\"Orginal sum of the list is 50\")\n",
        "total=0\n",
        "for num in L:\n",
        "    if num%2!=0:\n",
        "        total+=num\n",
        "print(f\"The sum of even numbers in list in 1(ix) is {total}\")\n",
        "print(\"\\n\")\n",
        "\n",
        "#Q1(x)\n",
        "def is_prime(num):\n",
        "    \"\"\"Check if a number is prime.\"\"\"\n",
        "    if num <= 1:\n",
        "        return False\n",
        "    if num <= 3:\n",
        "        return True\n",
        "    if num % 2 == 0 or num % 3 == 0:\n",
        "        return False\n",
        "    i = 5\n",
        "    while i * i <= num:\n",
        "        if num % i == 0 or num % (i + 2) == 0:\n",
        "            return False\n",
        "        i += 6\n",
        "    return True\n",
        "\n",
        "def sum_of_primes(lst):\n",
        "    \"\"\"Sum all prime numbers in the list.\"\"\"\n",
        "    prime_sum = 0\n",
        "    for num in lst:\n",
        "        if is_prime(num):\n",
        "            prime_sum += num\n",
        "    return prime_sum\n",
        "\n",
        "L = [1, 2, 3, 4, 5, 6, 7, 8, 9, 10, 11]\n",
        "result = sum_of_primes(L)\n",
        "print(\"Sum of prime numbers in the list:\", result)\n",
        "print('\\n')\n",
        "\n",
        "#Q1(xi)\n",
        "L=[11,12,13,14]\n",
        "print(f\"Orginal list is as follows : {L}\")\n",
        "L.clear()\n",
        "print(f\"1(xi) list is as follows :{L}\")\n",
        "print(\"\\n\")\n",
        "\n",
        "#Q1(xii)\n",
        "L=[11,12,13,14]\n",
        "print(f\"Orginal list is as follows : {L}\")\n",
        "del L\n",
        "print(\"No L list exists after deletion of that list\")"
      ]
    },
    {
      "cell_type": "code",
      "source": [
        "#Q2\n",
        "l=[11,12,13,14]\n",
        "total_sum=0\n",
        "for num in l:\n",
        "    total_sum+=num\n",
        "print(f\"The sum of numbers in L list is {total_sum}\")\n"
      ],
      "metadata": {
        "colab": {
          "base_uri": "https://localhost:8080/"
        },
        "id": "pCSmYsEPuhQ1",
        "outputId": "3c808825-8f53-4be7-88e8-17dd9956a5ee"
      },
      "execution_count": null,
      "outputs": [
        {
          "output_type": "stream",
          "name": "stdout",
          "text": [
            "The sum of numbers in L list is 49\n"
          ]
        }
      ]
    },
    {
      "cell_type": "code",
      "source": [
        "#Q3\n",
        "l=[13,15,43,89]\n",
        "total_multiply=1\n",
        "for num in l:\n",
        "    total_multiply*=num\n",
        "print(f\"The multiplication of all the numbers in the list is :{total_multiply}\")"
      ],
      "metadata": {
        "colab": {
          "base_uri": "https://localhost:8080/"
        },
        "id": "guMYrh11vI3I",
        "outputId": "552f5843-c497-402d-e23c-72d99f5f727e"
      },
      "execution_count": null,
      "outputs": [
        {
          "output_type": "stream",
          "name": "stdout",
          "text": [
            "The multiplication of all the numbers in the list is :746265\n"
          ]
        }
      ]
    },
    {
      "cell_type": "code",
      "source": [
        "#Q4\n",
        "#not yet covered by sir------> 3D Array"
      ],
      "metadata": {
        "id": "kJUx8Z8cvrwv"
      },
      "execution_count": null,
      "outputs": []
    },
    {
      "cell_type": "code",
      "source": [
        "#Q5\n",
        "D= {1:5.6, 2:7.8, 3:6.6, 4:8.7, 5:7.7}\n",
        "#Q5(i)\n",
        "print(f\"Previous dictionary is :{D}\")\n",
        "D[8]=8.8\n",
        "print(f\"Updated dictionary for 5(i) is as follows :{D}\")\n",
        "print(\"\\n\")\n",
        "\n",
        "#Q5(ii)\n",
        "D= {1:5.6, 2:7.8, 3:6.6, 4:8.7, 5:7.7}\n",
        "print(\"Previous dictionary is :\",D)\n",
        "D.pop(2)\n",
        "print(f\"Updated dictionaryv for 5(ii) is as follows :{D}\")\n",
        "print('\\n')\n",
        "\n",
        "#Q5(iii)\n",
        "D= {1:5.6, 2:7.8, 3:6.6, 4:8.7, 5:7.7}\n",
        "print(\"Previous disctionary is : \",D)\n",
        "key=6\n",
        "if key in D:\n",
        "    print(f\"6{key} is present in the dictionary\")\n",
        "else:\n",
        "    print(\"6 key is not present in the dictionary\")\n",
        "print(\"\\n\")\n",
        "\n",
        "#Q5(iv)\n",
        "D= {1:5.6, 2:7.8, 3:6.6, 4:8.7, 5:7.7}\n",
        "len(D)\n",
        "print(\"Length of the dictionary is :\",len(D))\n",
        "print(\"\\n\")\n",
        "\n",
        "#Q5(vi)\n",
        "D= {1:5.6, 2:7.8, 3:6.6, 4:8.7, 5:7.7}\n",
        "D[3]=7.1\n",
        "print(\"Updated value of key 3 is : \",D)\n",
        "print(\"\\n\")\n",
        "\n",
        "#Q5(vii)\n",
        "D= {1:5.6, 2:7.8, 3:6.6, 4:8.7, 5:7.7}\n",
        "print(\"Original dictionary is :\",D)\n",
        "D.clear()\n",
        "print(\"After clearing the dictionary :\",D)"
      ],
      "metadata": {
        "colab": {
          "base_uri": "https://localhost:8080/"
        },
        "id": "fNVlgz7fv01Q",
        "outputId": "52490b32-d5af-4da5-8302-5aaa80b36dd5"
      },
      "execution_count": null,
      "outputs": [
        {
          "output_type": "stream",
          "name": "stdout",
          "text": [
            "Previous dictionary is :{1: 5.6, 2: 7.8, 3: 6.6, 4: 8.7, 5: 7.7}\n",
            "Updated dictionary for 5(i) is as follows :{1: 5.6, 2: 7.8, 3: 6.6, 4: 8.7, 5: 7.7, 8: 8.8}\n",
            "\n",
            "\n",
            "Previous dictionary is : {1: 5.6, 2: 7.8, 3: 6.6, 4: 8.7, 5: 7.7}\n",
            "Updated dictionaryv for 5(ii) is as follows :{1: 5.6, 3: 6.6, 4: 8.7, 5: 7.7}\n",
            "\n",
            "\n",
            "Previous disctionary is :  {1: 5.6, 2: 7.8, 3: 6.6, 4: 8.7, 5: 7.7}\n",
            "6 key is not present in the dictionary\n",
            "\n",
            "\n",
            "Length of the dictionary is : 5\n",
            "\n",
            "\n",
            "Updated value of key 3 is :  {1: 5.6, 2: 7.8, 3: 7.1, 4: 8.7, 5: 7.7}\n",
            "\n",
            "\n",
            "Original dictionary is : {1: 5.6, 2: 7.8, 3: 6.6, 4: 8.7, 5: 7.7}\n",
            "After clearing the dictionary : {}\n"
          ]
        }
      ]
    },
    {
      "cell_type": "code",
      "source": [
        "#Q6\n",
        "S1= [10, 20, 30, 40, 50, 60]\n",
        "S2= [40, 50, 60, 70, 80,90]\n",
        "#Q6(i)\n",
        "S1.append(55)\n",
        "S1.append(66)\n",
        "print(\"(i) Updated S1 list in 6(i) is :0\",S1)\n",
        "print(\"\\n\")\n",
        "\n",
        "#Q6(ii)\n",
        "S1= [10, 20, 30, 40, 50, 60]\n",
        "S2= [40, 50, 60, 70, 80,90]\n",
        "S1.remove(10)\n",
        "S1.remove(30)\n",
        "print(\"(ii) Updated S1 list in 6(ii) is :\",S1)\n",
        "print(\"\\n\")\n",
        "\n",
        "#Q6(iii)\n",
        "S1= [10, 20, 30, 40, 50, 60]\n",
        "S2= [40, 50, 60, 70, 80,90]\n",
        "NUM=40\n",
        "if NUM in S1:\n",
        "    print(f\"(iii) {NUM} is present in List S1 of Q6(iii)\")\n",
        "else:\n",
        "    print(f\"(iii) {NUM} is not present in List S1 Of Q6(iii)\")\n",
        "print(\"\\n\")\n",
        "\n",
        "#Q6(iv)\n",
        "union_list=list(set(S1)|set(S2))\n",
        "print(\"(iv) Union of S1 and S2 :\",union_list)\n",
        "print(\"\\n\")\n",
        "\n",
        "#Q6(v)\n",
        "intersection_list=list(set(S1)&set(S2))\n",
        "print(\"(v) Intersection of S1 and S2 :\",intersection_list)\n",
        "print(\"\\n\")\n",
        "\n",
        "#Q6(vi)\n",
        "difference_list=list(set(S1)-set(S2))\n",
        "print(\"(vi) Difference of S1 and S2 :\",difference_list)\n",
        "print(\"\\n\")"
      ],
      "metadata": {
        "colab": {
          "base_uri": "https://localhost:8080/"
        },
        "id": "UcTJep290xpY",
        "outputId": "a6bcbdfd-a23e-40aa-c043-70ab5b385d5c"
      },
      "execution_count": null,
      "outputs": [
        {
          "output_type": "stream",
          "name": "stdout",
          "text": [
            "(i) Updated S1 list in 6(i) is :0 [10, 20, 30, 40, 50, 60, 55, 66]\n",
            "\n",
            "\n",
            "(ii) Updated S1 list in 6(ii) is : [20, 40, 50, 60]\n",
            "\n",
            "\n",
            "(iii) 40 is present in List S1 of Q6(iii)\n",
            "\n",
            "\n",
            "(iv) Union of S1 and S2 : [70, 40, 10, 80, 50, 20, 90, 60, 30]\n",
            "\n",
            "\n",
            "(v) Intersection of S1 and S2 : [40, 50, 60]\n",
            "\n",
            "\n",
            "(vi) Difference of S1 and S2 : [10, 20, 30]\n",
            "\n",
            "\n"
          ]
        }
      ]
    },
    {
      "cell_type": "code",
      "source": [
        "#Q7(i)\n",
        "print(\"\\n\")\n",
        "\n",
        "#Q7(ii)\n",
        "#concept----> 1. we define a variable num which ranges from 600 to 800,----->2.conditions for prime number, divisble by one or itself---->3. we put the unsatisiting conditions of prime numbers in if and further loop-----> if the number dosen't satisfy the previous (condition+loop),the prime number is printed through else condition\n",
        "\n",
        "for num in range(600,801):\n",
        "    if num>1:\n",
        "        for i in range(2,int(num**0.5)+1):\n",
        "          if num%i==0:\n",
        "              break\n",
        "        else:\n",
        "            print(num,end=\",\")\n",
        "print(\"\\n\")\n",
        "\n",
        "#Q7(iii)\n",
        "for num in range(100,1001):\n",
        "    if num%7==0 and num%9==0:\n",
        "\n",
        "        print(num,end=\" \")\n",
        "\n",
        "\n",
        "\n"
      ],
      "metadata": {
        "colab": {
          "base_uri": "https://localhost:8080/"
        },
        "id": "637UhwwbIEHE",
        "outputId": "a08444e0-bd11-48b6-8511-038151604e3f"
      },
      "execution_count": null,
      "outputs": [
        {
          "output_type": "stream",
          "name": "stdout",
          "text": [
            "\n",
            "\n",
            "601,607,613,617,619,631,641,643,647,653,659,661,673,677,683,691,701,709,719,727,733,739,743,751,757,761,769,773,787,797,\n",
            "\n",
            "126 189 252 315 378 441 504 567 630 693 756 819 882 945 "
          ]
        }
      ]
    },
    {
      "cell_type": "code",
      "source": [
        "#Q8\n",
        "exam_st_date = (11, 12, 2014)\n",
        "\n",
        "print(f\"The examination will start from: {exam_st_date[0]}/{exam_st_date[1]}/{exam_st_date[2]}\")"
      ],
      "metadata": {
        "id": "ERbws4-yZq4W",
        "colab": {
          "base_uri": "https://localhost:8080/"
        },
        "outputId": "8cfed7d3-6164-4f3c-bf4a-3f3ca86fcc18"
      },
      "execution_count": null,
      "outputs": [
        {
          "output_type": "stream",
          "name": "stdout",
          "text": [
            "The examination will start from: 11/12/2014\n"
          ]
        }
      ]
    },
    {
      "cell_type": "code",
      "source": [
        "#Q9\n",
        "numbers = [5, 15, 45, 68, 91, 33, 55, 75, 100]\n",
        "for number in numbers:\n",
        "    if number % 5 == 0:\n",
        "        print(number,end=\" \")"
      ],
      "metadata": {
        "colab": {
          "base_uri": "https://localhost:8080/"
        },
        "id": "DUQMl6U6H3Mz",
        "outputId": "76c52235-0113-46b1-f3e6-8a6422dbb3a7"
      },
      "execution_count": null,
      "outputs": [
        {
          "output_type": "stream",
          "name": "stdout",
          "text": [
            "5 15 45 55 75 100 "
          ]
        }
      ]
    },
    {
      "cell_type": "code",
      "source": [
        "#Q10\n",
        "a=int(input(\"Enter a number : \"))\n",
        "is_even=a%2==0\n",
        "if (is_even==True):\n",
        "    print(f\"{a} is even\")\n",
        "else:\n",
        "    print(f\"{a} is odd\")"
      ],
      "metadata": {
        "colab": {
          "base_uri": "https://localhost:8080/"
        },
        "id": "bH7cO7dqLefy",
        "outputId": "8d451d85-9e7f-460e-cc57-7c02e68e684f"
      },
      "execution_count": null,
      "outputs": [
        {
          "output_type": "stream",
          "name": "stdout",
          "text": [
            "Enter a number : 13\n",
            "13 is odd\n"
          ]
        }
      ]
    },
    {
      "cell_type": "code",
      "source": [
        "#Q11\n",
        "string = \"Emma is a AI Asssistant. Emma does its work very well.\"\n",
        "count = string.count(\"Emma\")\n",
        "\n",
        "print(f\"The substring 'Emma' appears {count} times in the given string.\")"
      ],
      "metadata": {
        "colab": {
          "base_uri": "https://localhost:8080/"
        },
        "id": "Ce7LPpXWMPFR",
        "outputId": "3759d05e-3301-42ec-cf2d-446f558d77ad"
      },
      "execution_count": null,
      "outputs": [
        {
          "output_type": "stream",
          "name": "stdout",
          "text": [
            "The substring 'Emma' appears 2 times in the given string.\n"
          ]
        }
      ]
    }
  ]
}