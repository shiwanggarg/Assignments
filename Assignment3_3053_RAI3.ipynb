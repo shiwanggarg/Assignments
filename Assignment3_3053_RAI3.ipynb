{
  "nbformat": 4,
  "nbformat_minor": 0,
  "metadata": {
    "colab": {
      "provenance": [],
      "authorship_tag": "ABX9TyOFvpO6i3WPYsX2xP4hfWeS",
      "include_colab_link": true
    },
    "kernelspec": {
      "name": "python3",
      "display_name": "Python 3"
    },
    "language_info": {
      "name": "python"
    }
  },
  "cells": [
    {
      "cell_type": "markdown",
      "metadata": {
        "id": "view-in-github",
        "colab_type": "text"
      },
      "source": [
        "<a href=\"https://colab.research.google.com/github/shiwanggarg/Assignments/blob/main/Assignment3_3053_RAI3.ipynb\" target=\"_parent\"><img src=\"https://colab.research.google.com/assets/colab-badge.svg\" alt=\"Open In Colab\"/></a>"
      ]
    },
    {
      "cell_type": "code",
      "execution_count": null,
      "metadata": {
        "colab": {
          "base_uri": "https://localhost:8080/"
        },
        "id": "XHbg6SY8q4ID",
        "outputId": "2e6ce198-2110-410a-87d4-48971e02c477"
      },
      "outputs": [
        {
          "output_type": "stream",
          "name": "stdout",
          "text": [
            "Enter a number: 2\n",
            "The result is: 15\n"
          ]
        }
      ],
      "source": [
        "#Q1\n",
        "def difference(num):\n",
        "    if num > 17:\n",
        "        return 2 * abs(num - 17)\n",
        "    else:\n",
        "        return 17 - num\n",
        "\n",
        "num = int(input(\"Enter a number: \"))\n",
        "result = difference(num)\n",
        "print(f\"The result is: {result}\")\n"
      ]
    },
    {
      "cell_type": "code",
      "source": [
        "#Q2\n",
        "def check(num):\n",
        "  if num>=100 and num<=1000 or num==2000:\n",
        "    return True\n",
        "  else:\n",
        "    return False\n",
        "\n",
        "num=int(input(\"Enter a number : \"))\n",
        "result=check(num)\n",
        "if result:\n",
        "    print(f\"{num} is within the range 100 to 1000 or it is 2000.\")\n",
        "else:\n",
        "    print(f\"{num} is not within the range 100 to 1000 or 2000.\")"
      ],
      "metadata": {
        "colab": {
          "base_uri": "https://localhost:8080/"
        },
        "id": "pvJeTQjzsmYb",
        "outputId": "ac151197-2367-48eb-a67f-2df5cc5d454f"
      },
      "execution_count": null,
      "outputs": [
        {
          "output_type": "stream",
          "name": "stdout",
          "text": [
            "Enter a number : 1000\n",
            "1000 is within the range 100 to 1000 or it is 2000.\n"
          ]
        }
      ]
    },
    {
      "cell_type": "code",
      "source": [
        "#Q3\n",
        "def reverse_string(s):\n",
        "    return s[::-1]\n",
        "\n",
        "string = input(\"Enter a string: \")\n",
        "reversed_string = reverse_string(string)\n",
        "print(f\"The reversed string is: {reversed_string}\")\n"
      ],
      "metadata": {
        "colab": {
          "base_uri": "https://localhost:8080/"
        },
        "id": "yYPWTQwKtWk5",
        "outputId": "cd440f47-cfb6-4dc5-aa5f-63df5c5d9fae"
      },
      "execution_count": null,
      "outputs": [
        {
          "output_type": "stream",
          "name": "stdout",
          "text": [
            "Enter a string: Hello World\n",
            "The reversed string is: dlroW olleH\n"
          ]
        }
      ]
    },
    {
      "cell_type": "code",
      "source": [
        "#Q4\n",
        "def count(string):\n",
        "    upper_count = 0\n",
        "    lower_count = 0\n",
        "\n",
        "    for letter in string:\n",
        "        if letter.isupper():\n",
        "            upper_count += 1\n",
        "        elif letter.islower():\n",
        "            lower_count += 1\n",
        "\n",
        "    return upper_count, lower_count\n",
        "\n",
        "string = input(\"Enter a string: \")\n",
        "upper, lower = count(string)\n",
        "\n",
        "print(f\"Uppercase letters: {upper}\")\n",
        "print(f\"Lowercase letters: {lower}\")\n"
      ],
      "metadata": {
        "colab": {
          "base_uri": "https://localhost:8080/"
        },
        "id": "X3qhAxH6u92d",
        "outputId": "c6a9b005-fdfd-4d08-92be-d587bff7361f"
      },
      "execution_count": null,
      "outputs": [
        {
          "output_type": "stream",
          "name": "stdout",
          "text": [
            "Enter a string: Hello World\n",
            "Uppercase letters: 2\n",
            "Lowercase letters: 8\n"
          ]
        }
      ]
    },
    {
      "cell_type": "code",
      "source": [
        "#Q5\n",
        "def New_List(num):\n",
        "    return list(set(num))\n",
        "\n",
        "List = [2,4,6,8,10,100,63,34]\n",
        "distinct_list = New_List(List)\n",
        "\n",
        "print(\"Original list:\", List)\n",
        "print(\"List with distinct elements:\", distinct_list)"
      ],
      "metadata": {
        "colab": {
          "base_uri": "https://localhost:8080/"
        },
        "id": "7y65miQkwwRM",
        "outputId": "6b8a1321-50df-4b82-b151-5153713df8b5"
      },
      "execution_count": null,
      "outputs": [
        {
          "output_type": "stream",
          "name": "stdout",
          "text": [
            "Original list: [2, 4, 6, 8, 10, 100, 63, 34]\n",
            "List with distinct elements: [2, 34, 4, 100, 6, 8, 10, 63]\n"
          ]
        }
      ]
    },
    {
      "cell_type": "code",
      "source": [
        "#Q6\n",
        "def even_numbers(List):\n",
        "    even_numbers = [num for num in List if num % 2 == 0]\n",
        "    return even_numbers\n",
        "List = [10,9,8,7,6,5,4,3,2,1]\n",
        "result = even_numbers(List)\n",
        "\n",
        "print(f\"Even numbers: {result}\")\n"
      ],
      "metadata": {
        "colab": {
          "base_uri": "https://localhost:8080/"
        },
        "id": "Zt1VnUBEywvw",
        "outputId": "72086de3-8668-499c-c5c0-2551c4604971"
      },
      "execution_count": null,
      "outputs": [
        {
          "output_type": "stream",
          "name": "stdout",
          "text": [
            "Even numbers: [10, 8, 6, 4, 2]\n"
          ]
        }
      ]
    },
    {
      "cell_type": "code",
      "source": [
        "#Q7\n",
        "def outer_function(text):\n",
        "    def inner_function():\n",
        "        print(f\"Hello {text}\")\n",
        "\n",
        "    inner_function()\n",
        "\n",
        "outer_function(\"World\")"
      ],
      "metadata": {
        "colab": {
          "base_uri": "https://localhost:8080/"
        },
        "id": "zdZCY0tP1yuJ",
        "outputId": "c971b062-ac4f-455b-bd22-ce0754b10eae"
      },
      "execution_count": null,
      "outputs": [
        {
          "output_type": "stream",
          "name": "stdout",
          "text": [
            "Hello World\n"
          ]
        }
      ]
    },
    {
      "cell_type": "code",
      "source": [
        "#Q8\n",
        "def student(name, age, grade):\n",
        "    student.name = name\n",
        "    student.age = age\n",
        "    student.grade = grade\n",
        "\n",
        "    for attribute in student.__dict__:\n",
        "        print(f\"{attribute} : {getattr(student, attribute)}\")\n",
        "\n",
        "student(\"Harry\",17,\"12th Grade\")"
      ],
      "metadata": {
        "colab": {
          "base_uri": "https://localhost:8080/"
        },
        "id": "qJwXuYLe4CHg",
        "outputId": "67eff748-1667-4846-bcbd-82979dbd1390"
      },
      "execution_count": null,
      "outputs": [
        {
          "output_type": "stream",
          "name": "stdout",
          "text": [
            "name : Harry\n",
            "age : 17\n",
            "grade : 12th Grade\n"
          ]
        }
      ]
    },
    {
      "cell_type": "code",
      "source": [
        "#Q9\n",
        "class Student:\n",
        "    def __init__(self, student_id, student_name):\n",
        "        self.student_id = student_id\n",
        "        self.student_name = student_name\n",
        "        self.student_class = None\n",
        "\n",
        "    def set_student_class(self, student_class):\n",
        "        self.student_class = student_class\n",
        "\n",
        "    def display_attributes(self):\n",
        "\n",
        "        print(f\"Student ID: {self.student_id}\")\n",
        "        print(f\"Student Name: {self.student_name}\")\n",
        "        print(f\"Student Class: {self.student_class}\")\n",
        "\n",
        "\n",
        "student1 = Student(3053, \"Shiwang Garg\")\n",
        "student1.set_student_class(\"Btech 2nd Year\")\n",
        "student1.display_attributes()\n"
      ],
      "metadata": {
        "colab": {
          "base_uri": "https://localhost:8080/"
        },
        "id": "w8SJNMej5jlP",
        "outputId": "29211f51-ce4d-436b-fa4f-0916b14e48ac"
      },
      "execution_count": null,
      "outputs": [
        {
          "output_type": "stream",
          "name": "stdout",
          "text": [
            "Student ID: 3053\n",
            "Student Name: Shiwang Garg\n",
            "Student Class: Btech 2nd Year\n"
          ]
        }
      ]
    },
    {
      "cell_type": "code",
      "source": [
        "#Q10\n",
        "class Student:\n",
        "    def __init__(self, student_id, student_name, student_class):\n",
        "        self.student_id = student_id\n",
        "        self.student_name = student_name\n",
        "        self.student_class = student_class\n",
        "\n",
        "    def display_attributes(self):\n",
        "        print(f\"Student ID: {self.student_id}\")\n",
        "        print(f\"Student Name: {self.student_name}\")\n",
        "        print(f\"Student Class: {self.student_class}\")\n",
        "\n",
        "student1 = Student(1, \"Harry\", \"Second Year\")\n",
        "student2 = Student(2, \"Sakshi\", \"First Year\")\n",
        "\n",
        "#student1\n",
        "print(\"Attributes of student1:\")\n",
        "student1.display_attributes()\n",
        "print()\n",
        "\n",
        "#student2\n",
        "print(\"Attributes of student2:\")\n",
        "student2.display_attributes()"
      ],
      "metadata": {
        "colab": {
          "base_uri": "https://localhost:8080/"
        },
        "id": "9e1cxxIp9FRG",
        "outputId": "914bbbe5-1e4a-49aa-e1e1-261556debb62"
      },
      "execution_count": null,
      "outputs": [
        {
          "output_type": "stream",
          "name": "stdout",
          "text": [
            "Attributes of student1:\n",
            "Student ID: 1\n",
            "Student Name: Harry\n",
            "Student Class: Second Year\n",
            "\n",
            "Attributes of student2:\n",
            "Student ID: 2\n",
            "Student Name: Sakshi\n",
            "Student Class: First Year\n"
          ]
        }
      ]
    },
    {
      "cell_type": "code",
      "source": [
        "#11\n",
        "import math\n",
        "\n",
        "class Circle:\n",
        "    def __init__(self, radius):\n",
        "        self.radius = radius\n",
        "\n",
        "    def area(self):\n",
        "        return math.pi * (self.radius ** 2)\n",
        "\n",
        "    def perimeter(self):\n",
        "        return 2 * math.pi * self.radius\n",
        "\n",
        "circle = Circle(7)\n",
        "\n",
        "print(f\"Area of the circle: {circle.area()}\")\n",
        "print(f\"Perimeter of the circle: {circle.perimeter()}\")\n"
      ],
      "metadata": {
        "colab": {
          "base_uri": "https://localhost:8080/"
        },
        "id": "UE1_at9p-qPz",
        "outputId": "596fab0e-6718-4cc1-c074-f5af04ad6a39"
      },
      "execution_count": null,
      "outputs": [
        {
          "output_type": "stream",
          "name": "stdout",
          "text": [
            "Area of the circle: 153.93804002589985\n",
            "Perimeter of the circle: 43.982297150257104\n"
          ]
        }
      ]
    },
    {
      "cell_type": "code",
      "source": [
        "#12\n",
        "class string_in_upper_case:\n",
        "    def __init__(self):\n",
        "        self.text = \"\"\n",
        "\n",
        "    def get_String(self):\n",
        "        self.text = input(\"Enter a string: \")\n",
        "\n",
        "    def print_String(self):\n",
        "        print(self.text.upper())\n",
        "\n",
        "string_in_upper_case = string_in_upper_case()\n",
        "string_in_upper_case.get_String()\n",
        "string_in_upper_case.print_String()\n"
      ],
      "metadata": {
        "colab": {
          "base_uri": "https://localhost:8080/"
        },
        "id": "kbB5jpGv__n_",
        "outputId": "272a8a30-38a3-4047-972e-84d12ee93799"
      },
      "execution_count": null,
      "outputs": [
        {
          "output_type": "stream",
          "name": "stdout",
          "text": [
            "Enter a string: shiwang\n",
            "SHIWANG\n"
          ]
        }
      ]
    }
  ]
}