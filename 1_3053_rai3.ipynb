{
  "nbformat": 4,
  "nbformat_minor": 0,
  "metadata": {
    "colab": {
      "provenance": [],
      "authorship_tag": "ABX9TyNwo90BpdGSKcOoIttkskI3",
      "include_colab_link": true
    },
    "kernelspec": {
      "name": "python3",
      "display_name": "Python 3"
    },
    "language_info": {
      "name": "python"
    }
  },
  "cells": [
    {
      "cell_type": "markdown",
      "metadata": {
        "id": "view-in-github",
        "colab_type": "text"
      },
      "source": [
        "<a href=\"https://colab.research.google.com/github/shiwanggarg/Assignments/blob/main/1_3053_rai3.ipynb\" target=\"_parent\"><img src=\"https://colab.research.google.com/assets/colab-badge.svg\" alt=\"Open In Colab\"/></a>"
      ]
    },
    {
      "cell_type": "code",
      "source": [
        "#Q1\n",
        "print('\"Twinkle, twinkle, little star,\\n\\t How I wonder what you are!\\n\\t\\t Up above the world so high,\\n\\t\\t\\t Like a diamond in the sky.\\n\\t\\t\\t\\t Twinkle, twinkle, little star,\\n\\t\\t\\t\\t\\t How I wonder what you are\"')\n",
        "\n"
      ],
      "metadata": {
        "id": "qYUrBbs3uRJE",
        "colab": {
          "base_uri": "https://localhost:8080/"
        },
        "outputId": "721b670f-932b-48b5-a9a3-17161c02dd58"
      },
      "execution_count": null,
      "outputs": [
        {
          "output_type": "stream",
          "name": "stdout",
          "text": [
            "\"Twinkle, twinkle, little star,\n",
            "\t How I wonder what you are!\n",
            "\t\t Up above the world so high,\n",
            "\t\t\t Like a diamond in the sky.\n",
            "\t\t\t\t Twinkle, twinkle, little star,\n",
            "\t\t\t\t\t How I wonder what you are\"\n"
          ]
        }
      ]
    },
    {
      "cell_type": "code",
      "source": [
        "#Q2\n",
        "a=input(\"Enter your first name : \")\n",
        "b=input(\"Enter your last name : \")\n",
        "print(\"Your name is : \"+b+\" \"+a)"
      ],
      "metadata": {
        "colab": {
          "base_uri": "https://localhost:8080/"
        },
        "id": "pYvb0AlNxnI5",
        "outputId": "a1fca6ee-0ab0-4762-9481-19bcf21df7ff"
      },
      "execution_count": null,
      "outputs": [
        {
          "output_type": "stream",
          "name": "stdout",
          "text": [
            "Enter your first name : shiwang\n",
            "Enter your last name : garg\n",
            "Your name is : garg shiwang\n"
          ]
        }
      ]
    },
    {
      "cell_type": "code",
      "source": [
        "#Q3\n",
        "radius=float(input(\"Enter the value of radius : \"))\n",
        "pie=3.142\n",
        "area=pie*(radius**2)\n",
        "print(\"Area of circle is : \",area)"
      ],
      "metadata": {
        "colab": {
          "base_uri": "https://localhost:8080/"
        },
        "id": "zrkJmT9nyivK",
        "outputId": "96417743-43dc-4803-ae1e-87d833404d75"
      },
      "execution_count": null,
      "outputs": [
        {
          "output_type": "stream",
          "name": "stdout",
          "text": [
            "Enter the value of radius : 3.14\n",
            "Area of circle is :  30.9788632\n"
          ]
        }
      ]
    },
    {
      "cell_type": "code",
      "source": [
        "#Q4\n",
        "color_list=[\"Red\",\"Green\",\"White\" ,\"Black\"]\n",
        "first_color=color_list[0]\n",
        "last_color=color_list[3]\n",
        "print(\"First color is : \",first_color)\n",
        "print(\"Last color is : \",last_color)"
      ],
      "metadata": {
        "colab": {
          "base_uri": "https://localhost:8080/"
        },
        "id": "OpL4cMyHzD3j",
        "outputId": "02d3e1d2-6267-4d78-868e-8b4edb7f510a"
      },
      "execution_count": null,
      "outputs": [
        {
          "output_type": "stream",
          "name": "stdout",
          "text": [
            "First color is :  Red\n",
            "Last color is :  Black\n"
          ]
        }
      ]
    },
    {
      "cell_type": "code",
      "source": [
        "#Q5\n",
        "n=int(input(\"Enter the value of n : \"))\n",
        "a=str(n)\n",
        "b=a+a\n",
        "c=a+a+a\n",
        "d=int(a)+int(b)+int(c)\n",
        "print(\"Value of n+nn+nnn is : \",d)"
      ],
      "metadata": {
        "colab": {
          "base_uri": "https://localhost:8080/"
        },
        "id": "y6tdJ3He0ftk",
        "outputId": "cd4ed4a2-081b-42f4-fdf7-37c0fddf4092"
      },
      "execution_count": null,
      "outputs": [
        {
          "output_type": "stream",
          "name": "stdout",
          "text": [
            "Enter the value of n : 5\n",
            "Value of n+nn+nnn is :  615\n"
          ]
        }
      ]
    },
    {
      "cell_type": "code",
      "source": [
        "#Q6\n",
        "x = str(input(\"Enter the number: \")).split(\",\")\n",
        "print(x)\n",
        "x = tuple(x)\n",
        "print(x)\n"
      ],
      "metadata": {
        "id": "0XrYully2Wsc",
        "colab": {
          "base_uri": "https://localhost:8080/"
        },
        "outputId": "e5de8a8a-1c4f-4d2d-ed08-8eb326d44c5a"
      },
      "execution_count": null,
      "outputs": [
        {
          "output_type": "stream",
          "name": "stdout",
          "text": [
            "Enter the number: 2\n",
            "['2']\n",
            "('2',)\n"
          ]
        }
      ]
    },
    {
      "cell_type": "code",
      "source": [
        "#Q7\n",
        "Celsius=float(input('Enter the celsius value of temprature : '))\n",
        "Fahrenheit=(9/5)*Celsius+32\n",
        "print(\"Temprature in Fahrenheit is :  \",Fahrenheit)\n"
      ],
      "metadata": {
        "colab": {
          "base_uri": "https://localhost:8080/"
        },
        "id": "ZlwPSoCp8nAK",
        "outputId": "4f02fd0a-e7db-4ad6-8901-34f50a452371"
      },
      "execution_count": null,
      "outputs": [
        {
          "output_type": "stream",
          "name": "stdout",
          "text": [
            "Enter the celsius value of temprature : 25.5\n",
            "Temprature in Fahrenheit is :   77.9\n"
          ]
        }
      ]
    },
    {
      "cell_type": "code",
      "source": [
        "#Q8\n",
        "a=int(input(\"Enter the value of a : \"))\n",
        "b=int(input(\"Enter the value of b : \"))\n",
        "print('Values of a and b respectively before swapping is : ',a,b)\n",
        "temp=a\n",
        "a=b\n",
        "b=temp\n",
        "print('Value of a and b respectively after swapping is : ',a,b)\n",
        "#Incremeting a by 1 we get the value as\n",
        "a+=1\n",
        "print('Value of a after increment is : ',a)"
      ],
      "metadata": {
        "colab": {
          "base_uri": "https://localhost:8080/"
        },
        "id": "u-9xsRss9s1H",
        "outputId": "c0ad5307-43ad-4c12-8a3c-3e57cd2c7934"
      },
      "execution_count": null,
      "outputs": [
        {
          "output_type": "stream",
          "name": "stdout",
          "text": [
            "Enter the value of a : 2\n",
            "Enter the value of b : 3\n",
            "Values of a and b before swapping is :  2 3\n",
            "Value of a and b after swapping is :  3 2\n",
            "Value of a after increment is :  4\n"
          ]
        }
      ]
    },
    {
      "cell_type": "code",
      "source": [
        "#Q9\n",
        "a=int(input(\"Enter the value of a : \"))\n",
        "if (a%2==0):\n",
        "    print(\"Entered number is even number\")\n",
        "else:\n",
        "    print(\"Entered number is a odd number\")"
      ],
      "metadata": {
        "colab": {
          "base_uri": "https://localhost:8080/"
        },
        "id": "861klK69_OWX",
        "outputId": "bb654f80-a828-4af0-cbb3-e210ddd2f5aa"
      },
      "execution_count": null,
      "outputs": [
        {
          "output_type": "stream",
          "name": "stdout",
          "text": [
            "Enter the value of a : 12\n",
            "Entered number is even number\n"
          ]
        }
      ]
    },
    {
      "cell_type": "code",
      "source": [
        "#10\n",
        "year=int(input(\"Enter the year : \"))\n",
        "if (year%4==0 and year%100!=0) or (year%400==0):\n",
        "    print(\"Entered year is a leap year\")\n",
        "else:\n",
        "    print(\"Entered year is not a leap year\")\n"
      ],
      "metadata": {
        "colab": {
          "base_uri": "https://localhost:8080/"
        },
        "id": "JJHs80Aj_9gD",
        "outputId": "042ce28b-9928-4976-e7b6-c31340cebd3f"
      },
      "execution_count": null,
      "outputs": [
        {
          "output_type": "stream",
          "name": "stdout",
          "text": [
            "Enter the year : 2024\n",
            "Entered year is a leap year\n"
          ]
        }
      ]
    },
    {
      "cell_type": "code",
      "source": [
        "#11\n",
        "\n",
        "x1,y1 = int(input(\"x1:\")), int(input(\"y1:\"))\n",
        "x2,y2 = int(input(\"x2:\")), int(input(\"y2:\"))\n",
        "distance = ((x2 - x1)**2 + (y2 - y1)**2)**0.5\n",
        "print(distance)\n",
        "\n",
        "\n"
      ],
      "metadata": {
        "colab": {
          "base_uri": "https://localhost:8080/"
        },
        "id": "d9yGMERpBwHL",
        "outputId": "cd76e058-2355-4bee-9466-53902690d2f6"
      },
      "execution_count": null,
      "outputs": [
        {
          "output_type": "stream",
          "name": "stdout",
          "text": [
            "x1:1\n",
            "y1:2\n",
            "x2:3\n",
            "y2:4\n",
            "2.8284271247461903\n"
          ]
        }
      ]
    },
    {
      "cell_type": "code",
      "source": [
        "#12\n",
        "a=float(input(\"Enter the value of fisrt angle in degrees : \"))\n",
        "b=float(input(\"Enter the value of second angle in degrees : \"))\n",
        "c=float(input(\"Enter the value of third angle in degrees : \"))\n",
        "if (a+b+c==180):\n",
        "    print(\"Entered angles are valid\")\n",
        "else:\n",
        "    print(\"Entered angles are not valid\")\n"
      ],
      "metadata": {
        "colab": {
          "base_uri": "https://localhost:8080/"
        },
        "id": "NOLicDv-Fy3e",
        "outputId": "c8be9a50-6bf6-4a5a-a9fe-55eae2fee42f"
      },
      "execution_count": null,
      "outputs": [
        {
          "output_type": "stream",
          "name": "stdout",
          "text": [
            "Enter the value of fisrt angle in degrees : 120\n",
            "Enter the value of second angle in degrees : 30\n",
            "Enter the value of third angle in degrees : 30\n",
            "Entered angles are valid\n"
          ]
        }
      ]
    },
    {
      "cell_type": "code",
      "source": [
        "#13\n",
        "principal = float(input(\"Enter the principal amount: \"))\n",
        "rate = float(input(\"Enter the annual interest rate (as a percentage): \")) / 100\n",
        "time = float(input(\"Enter the time (in years): \"))\n",
        "n = int(input(\"Enter the number of times interest is compounded per year: \"))\n",
        "\n",
        "amount = principal * (1 + rate / n) ** (n * time)\n",
        "interest = amount - principal\n",
        "\n",
        "# Output the result\n",
        "print(\"Compound Interest: \",interest)\n",
        "print(\"Total Amount : \",amount)"
      ],
      "metadata": {
        "colab": {
          "base_uri": "https://localhost:8080/"
        },
        "id": "_gQO_TmOJZlc",
        "outputId": "ac49c4a9-240f-42ed-c759-cd3b4583b91c"
      },
      "execution_count": null,
      "outputs": [
        {
          "output_type": "stream",
          "name": "stdout",
          "text": [
            "Enter the principal amount: 1200\n",
            "Enter the annual interest rate (as a percentage): 20\n",
            "Enter the time (in years): 2\n",
            "Enter the number of times interest is compounded per year: 3\n",
            "Compound Interest:  567.4762534979423\n",
            "Total Amount :  1767.4762534979423\n"
          ]
        }
      ]
    },
    {
      "cell_type": "code",
      "source": [
        "#14\n",
        "\n",
        "N = int(input(\"Enter a positive integer: \"))\n",
        "if N <= 1:\n",
        "    print(f\"{N} is not a prime number.\")\n",
        "else:\n",
        "\n",
        "    is_prime = True\n",
        "\n",
        "\n",
        "    for i in range(2, int(N**0.5) + 1):\n",
        "        if N % i == 0:\n",
        "            is_prime = False\n",
        "            break\n",
        "\n",
        "    if is_prime:\n",
        "        print(f\"{N} is a prime number.\")\n",
        "    else:\n",
        "        print(f\"{N} is not a prime number.\")\n"
      ],
      "metadata": {
        "id": "0W3JVsLuL64U",
        "colab": {
          "base_uri": "https://localhost:8080/"
        },
        "outputId": "83617920-d078-46ff-cf5c-1d7047104fe0"
      },
      "execution_count": null,
      "outputs": [
        {
          "output_type": "stream",
          "name": "stdout",
          "text": [
            "Enter a positive integer: 25\n",
            "25 is not a prime number.\n"
          ]
        }
      ]
    },
    {
      "cell_type": "code",
      "source": [
        "#15\n",
        "N=int(input(\"Enter a positive integer : \"))\n",
        "result= N * (N + 1) * (2 * N + 1) // 6\n",
        "print(\"The sum of squares from 1^2 to {N}^2 is: \",result)"
      ],
      "metadata": {
        "colab": {
          "base_uri": "https://localhost:8080/"
        },
        "id": "5xM6EZALMx7H",
        "outputId": "4301bd5b-8f7b-4abd-f0f0-f0d7308aaff6"
      },
      "execution_count": null,
      "outputs": [
        {
          "output_type": "stream",
          "name": "stdout",
          "text": [
            "Enter a positive integer : 5\n",
            "The sum of squares from 1^2 to {N}^2 is:  55\n"
          ]
        }
      ]
    }
  ]
}